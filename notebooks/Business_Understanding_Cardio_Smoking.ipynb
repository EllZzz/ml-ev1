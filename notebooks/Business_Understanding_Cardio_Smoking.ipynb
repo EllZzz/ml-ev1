{
 "cells": [
  {
   "cell_type": "markdown",
   "id": "g871FcLTn2_R",
   "metadata": {
    "id": "g871FcLTn2_R"
   },
   "source": [
    "# Análisis de Negocio — Proyecto ML en Salud Cardiometabólica\n",
    "\n",
    "Este cuadernillo documenta el paso **Business Understanding** del EDA utilizando dos datasets:\n",
    "- `cardio_data_processed.csv`\n",
    "- `smoking_driking_dataset_Ver01.csv`\n",
    "\n",
    "Se definen objetivos, casos de uso de ML, métricas de éxito y criterios de valor, y se realiza una exploración inicial para orientar el EDA técnico posterior."
   ]
  },
  {
   "cell_type": "markdown",
   "id": "YDE2w1g6n2_V",
   "metadata": {
    "id": "YDE2w1g6n2_V"
   },
   "source": [
    "## 1. Introducción\n",
    "\n",
    "### 1.1 Objetivos del Análisis\n",
    "- Comprender la estructura y relaciones potenciales entre los datasets clínicos y conductuales.\n",
    "- Identificar variables clave candidatas para casos de uso de predicción/estratificación de riesgo.\n",
    "- Definir métricas de éxito (negocio y técnicas) y valor esperado.\n",
    "- Establecer un plan de implementación de alto nivel y riesgos principales.\n",
    "\n",
    "## Hipótesis:\n",
    "- **Clasificación binaria:** ¿Podemos predecir si un individuo tiene (o tendrá) enfermedad cardiovascular en base a sus factores de riesgo?\n",
    "- **Regresión continua:** ¿Podemos estimar el valor esperado de un factor cuantitativo de riesgo, como presión arterial sistólica, nivel de colesterol o consumo de alcohol, a partir de otras variables del perfil del paciente?"
   ]
  },
  {
   "cell_type": "markdown",
   "id": "pFUZTr4Un2_X",
   "metadata": {
    "id": "pFUZTr4Un2_X"
   },
   "source": [
    "## 2. Configuración del Entorno"
   ]
  },
  {
   "cell_type": "code",
   "execution_count": 12,
   "id": "990e66e8",
   "metadata": {},
   "outputs": [
    {
     "name": "stdout",
     "output_type": "stream",
     "text": [
      "The kedro.ipython extension is already loaded. To reload it, use:\n",
      "  %reload_ext kedro.ipython\n"
     ]
    },
    {
     "data": {
      "text/html": [
       "<pre style=\"white-space:pre;overflow-x:auto;line-height:normal;font-family:Menlo,'DejaVu Sans Mono',consolas,'Courier New',monospace\"><span style=\"color: #7fbfbf; text-decoration-color: #7fbfbf\">[09/15/25 22:53:42] </span><span style=\"color: #000080; text-decoration-color: #000080\">INFO    </span> Resolved project path as: C:\\Users\\Ella es                             <span style=\"color: #7f7f7f; text-decoration-color: #7f7f7f\">__init__.py:180</span>\n",
       "<span style=\"color: #7fbfbf; text-decoration-color: #7fbfbf\">                    </span>         ella\\Documents\\kedro_projects\\ml-ev1.                                  <span style=\"color: #7f7f7f; text-decoration-color: #7f7f7f\">               </span>\n",
       "<span style=\"color: #7fbfbf; text-decoration-color: #7fbfbf\">                    </span>         To set a different path, run <span style=\"color: #008000; text-decoration-color: #008000\">'%reload_kedro &lt;project_root&gt;'</span>            <span style=\"color: #7f7f7f; text-decoration-color: #7f7f7f\">               </span>\n",
       "</pre>\n"
      ],
      "text/plain": [
       "\u001b[2;36m[09/15/25 22:53:42]\u001b[0m\u001b[2;36m \u001b[0m\u001b[34mINFO    \u001b[0m Resolved project path as: C:\\Users\\Ella es                             \u001b[2m__init__.py\u001b[0m\u001b[2m:\u001b[0m\u001b[2m180\u001b[0m\n",
       "\u001b[2;36m                    \u001b[0m         ella\\Documents\\kedro_projects\\ml-ev1.                                  \u001b[2m               \u001b[0m\n",
       "\u001b[2;36m                    \u001b[0m         To set a different path, run \u001b[32m'%reload_kedro \u001b[0m\u001b[32m<\u001b[0m\u001b[32mproject_root\u001b[0m\u001b[32m>\u001b[0m\u001b[32m'\u001b[0m            \u001b[2m               \u001b[0m\n"
      ]
     },
     "metadata": {},
     "output_type": "display_data"
    },
    {
     "data": {
      "text/html": [
       "<pre style=\"white-space:pre;overflow-x:auto;line-height:normal;font-family:Menlo,'DejaVu Sans Mono',consolas,'Courier New',monospace\"><span style=\"color: #7fbfbf; text-decoration-color: #7fbfbf\">[09/15/25 22:53:43] </span><span style=\"color: #000080; text-decoration-color: #000080\">INFO    </span> Kedro is sending anonymous usage data with the sole purpose of improving <span style=\"color: #7f7f7f; text-decoration-color: #7f7f7f\">plugin.py:243</span>\n",
       "<span style=\"color: #7fbfbf; text-decoration-color: #7fbfbf\">                    </span>         the product. No personal data or IP addresses are stored on our side. To <span style=\"color: #7f7f7f; text-decoration-color: #7f7f7f\">             </span>\n",
       "<span style=\"color: #7fbfbf; text-decoration-color: #7fbfbf\">                    </span>         opt out, set the `KEDRO_DISABLE_TELEMETRY` or `DO_NOT_TRACK` environment <span style=\"color: #7f7f7f; text-decoration-color: #7f7f7f\">             </span>\n",
       "<span style=\"color: #7fbfbf; text-decoration-color: #7fbfbf\">                    </span>         variables, or create a `.telemetry` file in the current working          <span style=\"color: #7f7f7f; text-decoration-color: #7f7f7f\">             </span>\n",
       "<span style=\"color: #7fbfbf; text-decoration-color: #7fbfbf\">                    </span>         directory with the contents `consent: false`. To hide this message,      <span style=\"color: #7f7f7f; text-decoration-color: #7f7f7f\">             </span>\n",
       "<span style=\"color: #7fbfbf; text-decoration-color: #7fbfbf\">                    </span>         explicitly grant or deny consent. Read more at                           <span style=\"color: #7f7f7f; text-decoration-color: #7f7f7f\">             </span>\n",
       "<span style=\"color: #7fbfbf; text-decoration-color: #7fbfbf\">                    </span>         <span style=\"color: #0000ff; text-decoration-color: #0000ff; text-decoration: underline\">https://docs.kedro.org/en/stable/configuration/telemetry.html</span>            <span style=\"color: #7f7f7f; text-decoration-color: #7f7f7f\">             </span>\n",
       "</pre>\n"
      ],
      "text/plain": [
       "\u001b[2;36m[09/15/25 22:53:43]\u001b[0m\u001b[2;36m \u001b[0m\u001b[34mINFO    \u001b[0m Kedro is sending anonymous usage data with the sole purpose of improving \u001b[2mplugin.py\u001b[0m\u001b[2m:\u001b[0m\u001b[2m243\u001b[0m\n",
       "\u001b[2;36m                    \u001b[0m         the product. No personal data or IP addresses are stored on our side. To \u001b[2m             \u001b[0m\n",
       "\u001b[2;36m                    \u001b[0m         opt out, set the `KEDRO_DISABLE_TELEMETRY` or `DO_NOT_TRACK` environment \u001b[2m             \u001b[0m\n",
       "\u001b[2;36m                    \u001b[0m         variables, or create a `.telemetry` file in the current working          \u001b[2m             \u001b[0m\n",
       "\u001b[2;36m                    \u001b[0m         directory with the contents `consent: false`. To hide this message,      \u001b[2m             \u001b[0m\n",
       "\u001b[2;36m                    \u001b[0m         explicitly grant or deny consent. Read more at                           \u001b[2m             \u001b[0m\n",
       "\u001b[2;36m                    \u001b[0m         \u001b[4;94mhttps://docs.kedro.org/en/stable/configuration/telemetry.html\u001b[0m            \u001b[2m             \u001b[0m\n"
      ]
     },
     "metadata": {},
     "output_type": "display_data"
    },
    {
     "data": {
      "text/html": [
       "<pre style=\"white-space:pre;overflow-x:auto;line-height:normal;font-family:Menlo,'DejaVu Sans Mono',consolas,'Courier New',monospace\"><span style=\"color: #7fbfbf; text-decoration-color: #7fbfbf\">[09/15/25 22:53:44] </span><span style=\"color: #000080; text-decoration-color: #000080\">INFO    </span> Kedro project ml_ev1                                                   <span style=\"color: #7f7f7f; text-decoration-color: #7f7f7f\">__init__.py:146</span>\n",
       "</pre>\n"
      ],
      "text/plain": [
       "\u001b[2;36m[09/15/25 22:53:44]\u001b[0m\u001b[2;36m \u001b[0m\u001b[34mINFO    \u001b[0m Kedro project ml_ev1                                                   \u001b[2m__init__.py\u001b[0m\u001b[2m:\u001b[0m\u001b[2m146\u001b[0m\n"
      ]
     },
     "metadata": {},
     "output_type": "display_data"
    },
    {
     "data": {
      "text/html": [
       "<pre style=\"white-space:pre;overflow-x:auto;line-height:normal;font-family:Menlo,'DejaVu Sans Mono',consolas,'Courier New',monospace\"><span style=\"color: #7fbfbf; text-decoration-color: #7fbfbf\">                    </span><span style=\"color: #000080; text-decoration-color: #000080\">INFO    </span> Defined global variable <span style=\"color: #008000; text-decoration-color: #008000\">'context'</span>, <span style=\"color: #008000; text-decoration-color: #008000\">'session'</span>, <span style=\"color: #008000; text-decoration-color: #008000\">'catalog'</span> and            <span style=\"color: #7f7f7f; text-decoration-color: #7f7f7f\">__init__.py:147</span>\n",
       "<span style=\"color: #7fbfbf; text-decoration-color: #7fbfbf\">                    </span>         <span style=\"color: #008000; text-decoration-color: #008000\">'pipelines'</span>                                                            <span style=\"color: #7f7f7f; text-decoration-color: #7f7f7f\">               </span>\n",
       "</pre>\n"
      ],
      "text/plain": [
       "\u001b[2;36m                   \u001b[0m\u001b[2;36m \u001b[0m\u001b[34mINFO    \u001b[0m Defined global variable \u001b[32m'context'\u001b[0m, \u001b[32m'session'\u001b[0m, \u001b[32m'catalog'\u001b[0m and            \u001b[2m__init__.py\u001b[0m\u001b[2m:\u001b[0m\u001b[2m147\u001b[0m\n",
       "\u001b[2;36m                    \u001b[0m         \u001b[32m'pipelines'\u001b[0m                                                            \u001b[2m               \u001b[0m\n"
      ]
     },
     "metadata": {},
     "output_type": "display_data"
    }
   ],
   "source": [
    "# Cargar extensión de Kedro (solo hace falta una vez al inicio del notebook)\n",
    "%load_ext kedro.ipython\n",
    "\n",
    "# Recargar contexto y catálogo de Kedro\n",
    "%reload_kedro"
   ]
  },
  {
   "cell_type": "code",
   "execution_count": 9,
   "id": "3802313a",
   "metadata": {},
   "outputs": [
    {
     "name": "stdout",
     "output_type": "stream",
     "text": [
      "Entorno listo.\n"
     ]
    }
   ],
   "source": [
    "# Importación de librerías necesarias\n",
    "import os\n",
    "import pandas as pd\n",
    "import numpy as np\n",
    "import matplotlib.pyplot as plt\n",
    "import warnings\n",
    "warnings.filterwarnings('ignore')\n",
    "\n",
    "# Configuración de visualización\n",
    "pd.set_option('display.max_columns', None)\n",
    "pd.set_option('display.max_rows', 100)\n",
    "pd.set_option('display.float_format', lambda x: '%.3f' % x)\n",
    "\n",
    "print(\"Entorno listo.\")"
   ]
  },
  {
   "cell_type": "markdown",
   "id": "hSR21895n2_a",
   "metadata": {
    "id": "hSR21895n2_a"
   },
   "source": [
    "## 3. Carga y Exploración de Datos\n",
    "### 3.1 Carga de Datasets"
   ]
  },
  {
   "cell_type": "code",
   "execution_count": 13,
   "id": "TVu4JHuEn2_a",
   "metadata": {
    "id": "TVu4JHuEn2_a"
   },
   "outputs": [
    {
     "name": "stdout",
     "output_type": "stream",
     "text": [
      "Cargando datasets desde el catálogo de Kedro...\n",
      "\n"
     ]
    },
    {
     "data": {
      "text/html": [
       "<pre style=\"white-space:pre;overflow-x:auto;line-height:normal;font-family:Menlo,'DejaVu Sans Mono',consolas,'Courier New',monospace\"><span style=\"color: #7fbfbf; text-decoration-color: #7fbfbf\">[09/15/25 22:53:56] </span><span style=\"color: #000080; text-decoration-color: #000080\">INFO    </span> Loading data from <span style=\"color: #ff8700; text-decoration-color: #ff8700\">cardio</span> <span style=\"font-weight: bold\">(</span>CSVDataset<span style=\"font-weight: bold\">)</span><span style=\"color: #808000; text-decoration-color: #808000\">...</span>                          <span style=\"color: #7f7f7f; text-decoration-color: #7f7f7f\">data_catalog.py:1046</span>\n",
       "</pre>\n"
      ],
      "text/plain": [
       "\u001b[2;36m[09/15/25 22:53:56]\u001b[0m\u001b[2;36m \u001b[0m\u001b[34mINFO    \u001b[0m Loading data from \u001b[38;5;208mcardio\u001b[0m \u001b[1m(\u001b[0mCSVDataset\u001b[1m)\u001b[0m\u001b[33m...\u001b[0m                          \u001b[2mdata_catalog.py\u001b[0m\u001b[2m:\u001b[0m\u001b[2m1046\u001b[0m\n"
      ]
     },
     "metadata": {},
     "output_type": "display_data"
    },
    {
     "name": "stdout",
     "output_type": "stream",
     "text": [
      "O Dataset 'cardio' cargado (68205 filas, 17 columnas)\n"
     ]
    },
    {
     "data": {
      "text/html": [
       "<pre style=\"white-space:pre;overflow-x:auto;line-height:normal;font-family:Menlo,'DejaVu Sans Mono',consolas,'Courier New',monospace\"><span style=\"color: #7fbfbf; text-decoration-color: #7fbfbf\">                    </span><span style=\"color: #000080; text-decoration-color: #000080\">INFO    </span> Loading data from <span style=\"color: #ff8700; text-decoration-color: #ff8700\">lifestyle</span> <span style=\"font-weight: bold\">(</span>CSVDataset<span style=\"font-weight: bold\">)</span><span style=\"color: #808000; text-decoration-color: #808000\">...</span>                       <span style=\"color: #7f7f7f; text-decoration-color: #7f7f7f\">data_catalog.py:1046</span>\n",
       "</pre>\n"
      ],
      "text/plain": [
       "\u001b[2;36m                   \u001b[0m\u001b[2;36m \u001b[0m\u001b[34mINFO    \u001b[0m Loading data from \u001b[38;5;208mlifestyle\u001b[0m \u001b[1m(\u001b[0mCSVDataset\u001b[1m)\u001b[0m\u001b[33m...\u001b[0m                       \u001b[2mdata_catalog.py\u001b[0m\u001b[2m:\u001b[0m\u001b[2m1046\u001b[0m\n"
      ]
     },
     "metadata": {},
     "output_type": "display_data"
    },
    {
     "name": "stdout",
     "output_type": "stream",
     "text": [
      "O Dataset 'lifestyle' cargado (991346 filas, 24 columnas)\n",
      "\n",
      "Total de datasets cargados: 2\n"
     ]
    }
   ],
   "source": [
    "FILES = [\"cardio\", \"lifestyle\"]\n",
    "\n",
    "datasets = {}\n",
    "print(\"Cargando datasets desde el catálogo de Kedro...\\n\")\n",
    "\n",
    "for name in FILES:\n",
    "    try:\n",
    "        datasets[name] = catalog.load(name)\n",
    "        print(f\"O Dataset '{name}' cargado ({datasets[name].shape[0]} filas, {datasets[name].shape[1]} columnas)\")\n",
    "    except Exception as e:\n",
    "        print(f\"X Error cargando dataset '{name}': {e}\")\n",
    "\n",
    "print(f\"\\nTotal de datasets cargados: {len(datasets)}\")"
   ]
  },
  {
   "cell_type": "markdown",
   "id": "vx4MAybon2_c",
   "metadata": {
    "id": "vx4MAybon2_c"
   },
   "source": [
    "### 3.2 Descripción de Tablas\n",
    "Análisis descriptivo de cada dataset y su utilidad en el contexto de salud cardiometabólica."
   ]
  },
  {
   "cell_type": "code",
   "execution_count": 15,
   "id": "6DiVkThmn2_d",
   "metadata": {
    "id": "6DiVkThmn2_d"
   },
   "outputs": [
    {
     "name": "stdout",
     "output_type": "stream",
     "text": [
      "DESCRIPCIÓN DE DATASETS================================================================================\n",
      "\n",
      "📊 CARDIO\n",
      "   Descripción: Variables clínicas/antropométricas (p. ej., presión arterial, lípidos, glucosa, IMC, edad, sexo)\n",
      "   Dimensiones: 68,205 filas × 17 columnas\n",
      "   Columnas: id, age, gender, height, weight, ap_hi, ap_lo, cholesterol, gluc, smoke...\n",
      "\n",
      "📊 LIFESTYLE\n",
      "   Descripción: Conductas de salud (tabaquismo, alcohol, estilo de vida).\n",
      "   Dimensiones: 991,346 filas × 24 columnas\n",
      "   Columnas: sex, age, height, weight, waistline, sight_left, sight_right, hear_left, hear_right, SBP...\n"
     ]
    }
   ],
   "source": [
    "dataset_descriptions = {\n",
    "    'cardio': 'Variables clínicas/antropométricas (p. ej., presión arterial, lípidos, glucosa, IMC, edad, sexo)',\n",
    "    'lifestyle': 'Conductas de salud (tabaquismo, alcohol, estilo de vida).'\n",
    "}\n",
    "\n",
    "print(\"DESCRIPCIÓN DE DATASETS\" + \"=\"*80)\n",
    "for name, df in datasets.items():\n",
    "    description = dataset_descriptions.get(name, '—')\n",
    "    print(f\"\\n📊 {name.upper()}\")\n",
    "    print(f\"   Descripción: {description}\")\n",
    "    print(f\"   Dimensiones: {df.shape[0]:,} filas × {df.shape[1]} columnas\")\n",
    "    cols_preview = ', '.join(map(str, df.columns[:10]))\n",
    "    print(f\"   Columnas: {cols_preview}{'...' if len(df.columns) > 10 else ''}\")"
   ]
  },
  {
   "cell_type": "markdown",
   "id": "RiNMB2NBn2_e",
   "metadata": {
    "id": "RiNMB2NBn2_e"
   },
   "source": [
    "### 3.3 Análisis de Estructura de Datos"
   ]
  },
  {
   "cell_type": "code",
   "execution_count": 18,
   "id": "iZLVYTN_n2_f",
   "metadata": {
    "id": "iZLVYTN_n2_f"
   },
   "outputs": [
    {
     "name": "stdout",
     "output_type": "stream",
     "text": [
      "\n",
      "----------------------------------------------------------------------------------------------------\n",
      "ANÁLISIS DE: CARDIO\n",
      "----------------------------------------------------------------------------------------------------\n",
      "\n",
      "📋 Información General:\n",
      "   - Total de registros: 68,205\n",
      "   - Total de columnas: 17\n",
      "   - Memoria utilizada: 16.46 MB\n",
      "\n",
      "📊 Tipos de Datos:\n",
      "   - int64: 13 columnas\n",
      "   - float64: 2 columnas\n",
      "   - object: 2 columnas\n",
      "\n",
      "✓ No hay valores nulos en este dataset (o no se detectaron)\n",
      "\n",
      "🎲 Columnas del Dataset (primeras 30):\n",
      "    1. id                                       (int64)\n",
      "    2. age                                      (int64)\n",
      "    3. gender                                   (int64)\n",
      "    4. height                                   (int64)\n",
      "    5. weight                                   (float64)\n",
      "    6. ap_hi                                    (int64)\n",
      "    7. ap_lo                                    (int64)\n",
      "    8. cholesterol                              (int64)\n",
      "    9. gluc                                     (int64)\n",
      "   10. smoke                                    (int64)\n",
      "   11. alco                                     (int64)\n",
      "   12. active                                   (int64)\n",
      "   13. cardio                                   (int64)\n",
      "   14. age_years                                (int64)\n",
      "   15. bmi                                      (float64)\n",
      "   16. bp_category                              (object)\n",
      "   17. bp_category_encoded                      (object)\n",
      "\n",
      "📈 Resumen Estadístico (numéricas):\n",
      "             id       age    gender    height    weight     ap_hi     ap_lo  cholesterol      gluc     smoke      alco    active    cardio  age_years       bmi\n",
      "count 68205.000 68205.000 68205.000 68205.000 68205.000 68205.000 68205.000    68205.000 68205.000 68205.000 68205.000 68205.000 68205.000  68205.000 68205.000\n",
      "mean  49972.410 19462.670     1.350   164.370    74.100   126.430    81.260        1.360     1.230     0.090     0.050     0.800     0.490     52.820    27.510\n",
      "std   28852.140  2468.380     0.480     8.180    14.290    15.960     9.140        0.680     0.570     0.280     0.220     0.400     0.500      6.770     6.030\n",
      "min       0.000 10798.000     1.000    55.000    11.000    90.000    60.000        1.000     1.000     0.000     0.000     0.000     0.000     29.000     3.470\n",
      "25%   24991.000 17656.000     1.000   159.000    65.000   120.000    80.000        1.000     1.000     0.000     0.000     1.000     0.000     48.000    23.880\n",
      "50%   50008.000 19700.000     1.000   165.000    72.000   120.000    80.000        1.000     1.000     0.000     0.000     1.000     0.000     53.000    26.350\n",
      "75%   74878.000 21323.000     2.000   170.000    82.000   140.000    90.000        1.000     1.000     0.000     0.000     1.000     1.000     58.000    30.120\n",
      "max   99999.000 23713.000     2.000   250.000   200.000   180.000   120.000        3.000     3.000     1.000     1.000     1.000     1.000     64.000   298.670\n",
      "\n",
      "----------------------------------------------------------------------------------------------------\n",
      "ANÁLISIS DE: LIFESTYLE\n",
      "----------------------------------------------------------------------------------------------------\n",
      "\n",
      "📋 Información General:\n",
      "   - Total de registros: 991,346\n",
      "   - Total de columnas: 24\n",
      "   - Memoria utilizada: 264.66 MB\n",
      "\n",
      "📊 Tipos de Datos:\n",
      "   - float64: 19 columnas\n",
      "   - int64: 3 columnas\n",
      "   - object: 2 columnas\n",
      "\n",
      "✓ No hay valores nulos en este dataset (o no se detectaron)\n",
      "\n",
      "🎲 Columnas del Dataset (primeras 30):\n",
      "    1. sex                                      (object)\n",
      "    2. age                                      (int64)\n",
      "    3. height                                   (int64)\n",
      "    4. weight                                   (int64)\n",
      "    5. waistline                                (float64)\n",
      "    6. sight_left                               (float64)\n",
      "    7. sight_right                              (float64)\n",
      "    8. hear_left                                (float64)\n",
      "    9. hear_right                               (float64)\n",
      "   10. SBP                                      (float64)\n",
      "   11. DBP                                      (float64)\n",
      "   12. BLDS                                     (float64)\n",
      "   13. tot_chole                                (float64)\n",
      "   14. HDL_chole                                (float64)\n",
      "   15. LDL_chole                                (float64)\n",
      "   16. triglyceride                             (float64)\n",
      "   17. hemoglobin                               (float64)\n",
      "   18. urine_protein                            (float64)\n",
      "   19. serum_creatinine                         (float64)\n",
      "   20. SGOT_AST                                 (float64)\n",
      "   21. SGOT_ALT                                 (float64)\n",
      "   22. gamma_GTP                                (float64)\n",
      "   23. SMK_stat_type_cd                         (float64)\n",
      "   24. DRK_YN                                   (object)\n",
      "\n",
      "📈 Resumen Estadístico (numéricas):\n",
      "             age     height     weight  waistline  sight_left  sight_right  hear_left  hear_right        SBP        DBP       BLDS  tot_chole  HDL_chole  LDL_chole  triglyceride  hemoglobin  urine_protein  serum_creatinine   SGOT_AST   SGOT_ALT  gamma_GTP  SMK_stat_type_cd\n",
      "count 991346.000 991346.000 991346.000 991346.000  991346.000   991346.000 991346.000  991346.000 991346.000 991346.000 991346.000 991346.000 991346.000 991346.000    991346.000  991346.000     991346.000        991346.000 991346.000 991346.000 991346.000        991346.000\n",
      "mean      47.610    162.240     63.280     81.230       0.980        0.980      1.030       1.030    122.430     76.050    100.420    195.560     56.940    113.040       132.140      14.230          1.090             0.860     25.990     25.760     37.140             1.610\n",
      "std       14.180      9.280     12.510     11.850       0.610        0.600      0.170       0.170     14.540      9.890     24.180     38.660     17.240     35.840       102.200       1.580          0.440             0.480     23.490     26.310     50.420             0.820\n",
      "min       20.000    130.000     25.000      8.000       0.100        0.100      1.000       1.000     67.000     32.000     25.000     30.000      1.000      1.000         1.000       1.000          1.000             0.100      1.000      1.000      1.000             1.000\n",
      "25%       35.000    155.000     55.000     74.100       0.700        0.700      1.000       1.000    112.000     70.000     88.000    169.000     46.000     89.000        73.000      13.200          1.000             0.700     19.000     15.000     16.000             1.000\n",
      "50%       45.000    160.000     60.000     81.000       1.000        1.000      1.000       1.000    120.000     76.000     96.000    193.000     55.000    111.000       106.000      14.300          1.000             0.800     23.000     20.000     23.000             1.000\n",
      "75%       60.000    170.000     70.000     87.800       1.200        1.200      1.000       1.000    131.000     82.000    105.000    219.000     66.000    135.000       159.000      15.400          1.000             1.000     28.000     29.000     39.000             2.000\n",
      "max       85.000    190.000    140.000    999.000       9.900        9.900      2.000       2.000    273.000    185.000    852.000   2344.000   8110.000   5119.000      9490.000      25.000          6.000            98.000   9999.000   7210.000    999.000             3.000\n"
     ]
    }
   ],
   "source": [
    "def analyze_dataset(df, name):\n",
    "    \"\"\"Análisis estructural y de calidad para un DataFrame.\"\"\"\n",
    "    print(f\"\\n{'-'*100}\\nANÁLISIS DE: {name.upper()}\\n{'-'*100}\")\n",
    "    print(f\"\\n📋 Información General:\")\n",
    "    print(f\"   - Total de registros: {len(df):,}\")\n",
    "    print(f\"   - Total de columnas: {len(df.columns)}\")\n",
    "    print(f\"   - Memoria utilizada: {df.memory_usage(deep=True).sum() / 1024**2:.2f} MB\")\n",
    "\n",
    "    # Tipos de datos\n",
    "    dtype_counts = df.dtypes.value_counts()\n",
    "    print(f\"\\n📊 Tipos de Datos:\")\n",
    "    for dtype, count in dtype_counts.items():\n",
    "        print(f\"   - {dtype}: {count} columnas\")\n",
    "\n",
    "    # Nulos\n",
    "    null_counts = df.isnull().sum()\n",
    "    null_cols = null_counts[null_counts > 0]\n",
    "    if len(null_cols) > 0:\n",
    "        print(f\"\\n⚠️ Columnas con Valores Nulos:\")\n",
    "        for col, count in null_cols.sort_values(ascending=False).items():\n",
    "            percentage = (count / len(df)) * 100 if len(df) else 0\n",
    "            print(f\"   - {col}: {count:,} ({percentage:.1f}%)\")\n",
    "    else:\n",
    "        print(f\"\\n✓ No hay valores nulos en este dataset (o no se detectaron)\")\n",
    "\n",
    "    # Columnas\n",
    "    print(f\"\\n🎲 Columnas del Dataset (primeras 30):\")\n",
    "    for i, col in enumerate(df.columns[:30], 1):\n",
    "        dtype_str = str(df[col].dtype)\n",
    "        print(f\"   {i:2}. {col:40} ({dtype_str})\")\n",
    "\n",
    "    # Estadísticas numéricas\n",
    "    numeric_cols = df.select_dtypes(include=[np.number]).columns\n",
    "    if len(numeric_cols) > 0:\n",
    "        print(f\"\\n📈 Resumen Estadístico (numéricas):\")\n",
    "        print(df[numeric_cols].describe().round(2).to_string())\n",
    "    else:\n",
    "        print(\"\\nℹ️ No se encontraron columnas numéricas para resumen estadístico.\")\n",
    "\n",
    "for dataset_name, df in datasets.items():\n",
    "    analyze_dataset(df, dataset_name)"
   ]
  },
  {
   "cell_type": "markdown",
   "id": "jlxLF_1Rn2_f",
   "metadata": {
    "id": "jlxLF_1Rn2_f"
   },
   "source": [
    "## 4. Entendimiento del Negocio (Salud Cardiometabólica)\n",
    "### 4.1 Contexto\n",
    "Las enfermedades cardiovasculares y metabólicas representan una carga significativa para sistemas de salud. Modelos ML pueden apoyar estratificación de riesgo, priorización de pesquisa y asignación eficiente de recursos clínicos.\n",
    "\n",
    "### 4.2 Stakeholders y Necesidades"
   ]
  },
  {
   "cell_type": "code",
   "execution_count": 22,
   "id": "_ZyrxFxhn2_f",
   "metadata": {
    "id": "_ZyrxFxhn2_f"
   },
   "outputs": [
    {
     "name": "stdout",
     "output_type": "stream",
     "text": [
      "ANÁLISIS DE STAKEHOLDERS\n",
      "---------------------------------------------------------------------------------------------------------------------------------------\n",
      "                         Stakeholder                               Necesidad Principal                                     Valor del ML\n",
      "Clínicos (Medicina Familiar/Interna)     Priorizar controles y derivaciones por riesgo Listas de trabajo por riesgo y reglas operativas\n",
      "                  Pacientes/Usuarios  Prevención personalizada y alertas comprensibles        Recomendaciones accionables y explicables\n",
      "       Gestión Hospitalaria/Clínicas   Optimizar cupos, tiempos y costos asistenciales           Planificación basada en carga esperada\n",
      "          Aseguradoras/Financiadores     Gestionar riesgo poblacional y costos futuros        Modelos de propensión y costo-efectividad\n",
      "                       Salud Pública Monitorear factores de riesgo a nivel poblacional          Mapas de riesgo y vigilancia sindrómica\n",
      "            Equipo de Datos/Producto   Sistemas reproducibles, auditables y escalables        Pipelines versionados, monitoreo de drift\n"
     ]
    }
   ],
   "source": [
    "stakeholders = pd.DataFrame({\n",
    "    'Stakeholder': [\n",
    "        'Clínicos (Medicina Familiar/Interna)',\n",
    "        'Pacientes/Usuarios',\n",
    "        'Gestión Hospitalaria/Clínicas',\n",
    "        'Aseguradoras/Financiadores',\n",
    "        'Salud Pública',\n",
    "        'Equipo de Datos/Producto'\n",
    "    ],\n",
    "    'Necesidad Principal': [\n",
    "        'Priorizar controles y derivaciones por riesgo',\n",
    "        'Prevención personalizada y alertas comprensibles',\n",
    "        'Optimizar cupos, tiempos y costos asistenciales',\n",
    "        'Gestionar riesgo poblacional y costos futuros',\n",
    "        'Monitorear factores de riesgo a nivel poblacional',\n",
    "        'Sistemas reproducibles, auditables y escalables'\n",
    "    ],\n",
    "    'Valor del ML': [\n",
    "        'Listas de trabajo por riesgo y reglas operativas',\n",
    "        'Recomendaciones accionables y explicables',\n",
    "        'Planificación basada en carga esperada',\n",
    "        'Modelos de propensión y costo-efectividad',\n",
    "        'Mapas de riesgo y vigilancia sindrómica',\n",
    "        'Pipelines versionados, monitoreo de drift'\n",
    "    ]\n",
    "})\n",
    "print(\"ANÁLISIS DE STAKEHOLDERS\")\n",
    "print(\"-\"*135)\n",
    "print(stakeholders.to_string(index=False))"
   ]
  },
  {
   "cell_type": "markdown",
   "id": "bKcyQ8kNn2_g",
   "metadata": {
    "id": "bKcyQ8kNn2_g"
   },
   "source": [
    "## 5. Definición de Casos de Uso de Machine Learning\n",
    "Se proponen dos casos de uso genéricos, ajustables según disponibilidad de variables/labels."
   ]
  },
  {
   "cell_type": "markdown",
   "id": "WfvzQ7vDn2_g",
   "metadata": {
    "id": "WfvzQ7vDn2_g"
   },
   "source": [
    "### 5.1 Caso de Clasificación (binaria) — Riesgo Cardiometabólico Alto\n",
    "**Objetivo:** Predecir probabilidad de pertenecer a un grupo de *alto riesgo* para priorizar intervención preventiva.\n",
    "\n",
    "**Métrica Principal:** AUROC y/o PR-AUC.  \n",
    "**Métricas Operativas:** PPV/NPV a umbrales, *Lift* en deciles altos, Brier score (calibración).  \n",
    "**Valor:** Priorización de pacientes y asignación eficiente de recursos."
   ]
  },
  {
   "cell_type": "code",
   "execution_count": 23,
   "id": "FTki5Du6n2_g",
   "metadata": {
    "id": "FTki5Du6n2_g"
   },
   "outputs": [
    {
     "name": "stdout",
     "output_type": "stream",
     "text": [
      "POSIBLES COLUMNAS DE ETIQUETA (para clasificación):\n",
      " - cardio: ['cardio', 'age_years', 'bp_category', 'bp_category_encoded']\n",
      " - lifestyle: ['triglyceride', 'SMK_stat_type_cd', 'DRK_YN']\n"
     ]
    }
   ],
   "source": [
    "from typing import List\n",
    "\n",
    "def find_candidate_label_columns(df) -> List[str]:\n",
    "    candidates = []\n",
    "    label_keys = ['target','label','outcome','y','event','cardio','cardiovascular','disease','risk','hypertension','diabetes']\n",
    "    for col in df.columns:\n",
    "        low = str(col).lower()\n",
    "        if any(k in low for k in label_keys):\n",
    "            candidates.append(col)\n",
    "    return candidates\n",
    "\n",
    "label_candidates = {}\n",
    "for name, df in datasets.items():\n",
    "    label_candidates[name] = find_candidate_label_columns(df)\n",
    "\n",
    "print(\"POSIBLES COLUMNAS DE ETIQUETA (para clasificación):\")\n",
    "for name, cols in label_candidates.items():\n",
    "    print(f\" - {name}: {cols if cols else 'No se detectaron candidatos obvios'}\")"
   ]
  },
  {
   "cell_type": "markdown",
   "id": "EUvYy09ln2_h",
   "metadata": {
    "id": "EUvYy09ln2_h"
   },
   "source": [
    "**Nota:** Si no existe una etiqueta explícita, se puede definir un label derivado (ej.: *hipertensión alta* si `systolic_bp ≥ 140` o *síndrome metabólico proxy* según umbrales clínicos acordados). Esta definición debe validarse con stakeholders clínicos para evitar *label leakage*."
   ]
  },
  {
   "cell_type": "markdown",
   "id": "yKnjO6A3n2_h",
   "metadata": {
    "id": "yKnjO6A3n2_h"
   },
   "source": [
    "### 5.2 Caso de Regresión — Score de Riesgo Continuo / Marcador Clínico\n",
    "**Objetivo:** Estimar un **score continuo de riesgo** (o un marcador clínico, p. ej., presión sistólica) como indicador de severidad/urgencia.\n",
    "\n",
    "**Métrica Principal:** MAE/RMSE.  \n",
    "**Métricas Secundarias:** R², error absoluto relativo por subgrupo.  \n",
    "**Valor:** Seguimiento longitudinal y objetivos personalizados."
   ]
  },
  {
   "cell_type": "code",
   "execution_count": 24,
   "id": "GLEeBeGZn2_i",
   "metadata": {
    "id": "GLEeBeGZn2_i"
   },
   "outputs": [
    {
     "name": "stdout",
     "output_type": "stream",
     "text": [
      "POSIBLES VARIABLES OBJETIVO PARA REGRESIÓN (clínicas continuas):\n",
      " - cardio: ['weight', 'cholesterol', 'bmi']\n",
      " - lifestyle: ['weight', 'waistline', 'SBP', 'DBP', 'tot_chole', 'HDL_chole', 'LDL_chole', 'triglyceride']\n"
     ]
    }
   ],
   "source": [
    "# Detección de posibles objetivos continuos (marcadores clínicos) por nombre\n",
    "def find_candidate_regression_targets(df) -> List[str]:\n",
    "    keys = ['systolic','diastolic','sbp','dbp','chol','trig','hdl','ldl','glucose','hba1c','bmi','weight','waist']\n",
    "    candidates = []\n",
    "    for col in df.select_dtypes(include=[np.number]).columns:\n",
    "        low = str(col).lower()\n",
    "        if any(k in low for k in keys):\n",
    "            candidates.append(col)\n",
    "    return candidates\n",
    "\n",
    "reg_targets = {}\n",
    "for name, df in datasets.items():\n",
    "    reg_targets[name] = find_candidate_regression_targets(df)\n",
    "\n",
    "print(\"POSIBLES VARIABLES OBJETIVO PARA REGRESIÓN (clínicas continuas):\")\n",
    "for name, cols in reg_targets.items():\n",
    "    print(f\" - {name}: {cols if cols else 'No se detectaron candidatos por nombre'}\")"
   ]
  },
  {
   "cell_type": "markdown",
   "id": "hkS-85svn2_i",
   "metadata": {
    "id": "hkS-85svn2_i"
   },
   "source": [
    "## 6. Análisis de Calidad de Datos"
   ]
  },
  {
   "cell_type": "code",
   "execution_count": 27,
   "id": "JoXYmDytn2_i",
   "metadata": {
    "id": "JoXYmDytn2_i"
   },
   "outputs": [
    {
     "name": "stdout",
     "output_type": "stream",
     "text": [
      "EVALUACIÓN DE CALIDAD DE DATOS\n",
      "----------------------------------------------------------------------------------------------------\n",
      "  Dataset  Filas  Columnas  Completitud_%  Duplicados Calidad\n",
      "   cardio  68205        17        100.000           0  ✓ Alta\n",
      "lifestyle 991346        24        100.000          26 ⚠ Media\n",
      "\n",
      " Resumen de Calidad:\n",
      "   - Datasets de alta calidad: 1\n",
      "   - Datasets de calidad media: 1\n",
      "   - Datasets de baja calidad: 0\n"
     ]
    }
   ],
   "source": [
    "print(\"EVALUACIÓN DE CALIDAD DE DATOS\")\n",
    "print(\"-\"*100)\n",
    "\n",
    "quality_metrics = []\n",
    "for name, df in datasets.items():\n",
    "    total_cells = df.shape[0] * df.shape[1]\n",
    "    null_cells = int(df.isnull().sum().sum())\n",
    "    completeness = ((total_cells - null_cells) / total_cells * 100) if total_cells > 0 else 0\n",
    "    duplicate_rows = int(df.duplicated().sum()) if len(df) > 0 else 0\n",
    "\n",
    "    quality_metrics.append({\n",
    "        'Dataset': name,\n",
    "        'Filas': len(df),\n",
    "        'Columnas': df.shape[1],\n",
    "        'Completitud_%': round(completeness, 1),\n",
    "        'Duplicados': duplicate_rows,\n",
    "        'Calidad': '✓ Alta' if completeness > 95 and duplicate_rows == 0 else\n",
    "                   '⚠ Media' if completeness > 80 else '✗ Baja'\n",
    "    })\n",
    "\n",
    "quality_df = pd.DataFrame(quality_metrics)\n",
    "print(quality_df.to_string(index=False))\n",
    "\n",
    "high_quality = sum(1 for m in quality_metrics if '✓' in m['Calidad'])\n",
    "medium_quality = sum(1 for m in quality_metrics if '⚠' in m['Calidad'])\n",
    "low_quality = sum(1 for m in quality_metrics if '✗' in m['Calidad'])\n",
    "\n",
    "print(f\"\\n Resumen de Calidad:\")\n",
    "print(f\"   - Datasets de alta calidad: {high_quality}\")\n",
    "print(f\"   - Datasets de calidad media: {medium_quality}\")\n",
    "print(f\"   - Datasets de baja calidad: {low_quality}\")"
   ]
  },
  {
   "cell_type": "markdown",
   "id": "MivTdfWMn2_i",
   "metadata": {
    "id": "MivTdfWMn2_i"
   },
   "source": [
    "## 7. Variables Clave Identificadas (Candidatas)\n",
    "**Nota:** Este listado es preliminar. La selección final debe validarse con criterio clínico y disponibilidad real en columnas."
   ]
  },
  {
   "cell_type": "code",
   "execution_count": 28,
   "id": "Tne20sken2_j",
   "metadata": {
    "id": "Tne20sken2_j"
   },
   "outputs": [
    {
     "name": "stdout",
     "output_type": "stream",
     "text": [
      "               Categoría                    Variable (candidata)               Tipo                Uso Potencial\n",
      "Clínicas/Antropométricas systolic_bp / diastolic_bp (si existen)           Numérica Objetivo regresión o feature\n",
      "Clínicas/Antropométricas            glucose / HbA1c (si existen)           Numérica   Feature/criterio de riesgo\n",
      "Clínicas/Antropométricas      lipids: LDL/HDL/TG/TC (si existen)           Numérica      Feature/estratificación\n",
      "Clínicas/Antropométricas       BMI / weight / waist (si existen)           Numérica      Feature/estratificación\n",
      "Clínicas/Antropométricas        renal/liver markers (si existen)           Numérica     Feature/riesgo adicional\n",
      "Clínicas/Antropométricas        comorbidities flags (si existen) Categórica/Binaria        Interacciones/ajustes\n",
      "            Conductuales              smoking_status / intensity Categórica/Ordinal     Feature conductual clave\n",
      "            Conductuales               alcohol_frequency / units   Numérica/Ordinal     Feature conductual clave\n",
      "            Conductuales  physical_activity / sleep (si existen) Categórica/Ordinal      Features estilo de vida\n",
      "            Demográficas                                     age           Numérica        Ajuste y segmentación\n",
      "            Demográficas                                     sex         Categórica        Ajuste y segmentación\n"
     ]
    }
   ],
   "source": [
    "key_vars = pd.DataFrame({\n",
    "    'Categoría': [\n",
    "        'Clínicas/Antropométricas','Clínicas/Antropométricas','Clínicas/Antropométricas',\n",
    "        'Clínicas/Antropométricas','Clínicas/Antropométricas','Clínicas/Antropométricas',\n",
    "        'Conductuales','Conductuales','Conductuales',\n",
    "        'Demográficas','Demográficas'\n",
    "    ],\n",
    "    'Variable (candidata)': [\n",
    "        'systolic_bp / diastolic_bp (si existen)',\n",
    "        'glucose / HbA1c (si existen)',\n",
    "        'lipids: LDL/HDL/TG/TC (si existen)',\n",
    "        'BMI / weight / waist (si existen)',\n",
    "        'renal/liver markers (si existen)',\n",
    "        'comorbidities flags (si existen)',\n",
    "        'smoking_status / intensity',\n",
    "        'alcohol_frequency / units',\n",
    "        'physical_activity / sleep (si existen)',\n",
    "        'age',\n",
    "        'sex'\n",
    "    ],\n",
    "    'Tipo': [\n",
    "        'Numérica','Numérica','Numérica','Numérica','Numérica','Categórica/Binaria',\n",
    "        'Categórica/Ordinal','Numérica/Ordinal','Categórica/Ordinal','Numérica','Categórica'\n",
    "    ],\n",
    "    'Uso Potencial': [\n",
    "        'Objetivo regresión o feature',\n",
    "        'Feature/criterio de riesgo',\n",
    "        'Feature/estratificación',\n",
    "        'Feature/estratificación',\n",
    "        'Feature/riesgo adicional',\n",
    "        'Interacciones/ajustes',\n",
    "        'Feature conductual clave',\n",
    "        'Feature conductual clave',\n",
    "        'Features estilo de vida',\n",
    "        'Ajuste y segmentación',\n",
    "        'Ajuste y segmentación'\n",
    "    ]\n",
    "})\n",
    "print(key_vars.to_string(index=False))"
   ]
  },
  {
   "cell_type": "markdown",
   "id": "HMfB_hu7n2_j",
   "metadata": {
    "id": "HMfB_hu7n2_j"
   },
   "source": [
    "## 8. Plan de Implementación (Alto Nivel)\n",
    "1. Cerrar **definición de label** (clínico-aceptable, sin leakage).  \n",
    "2. Establecer **diccionario de variables** y reglas de limpieza.  \n",
    "3. Pipeline reproducible de **feature engineering** (versionado).  \n",
    "4. **Baselines** (logística/árboles) y evaluación por subgrupos.  \n",
    "5. Calibración, curvas decisión (net benefit) y umbrales operativos.  \n",
    "6. Documentación, *model card*, y plan de **monitoreo de drift**."
   ]
  },
  {
   "cell_type": "markdown",
   "id": "YxfXouGUn2_j",
   "metadata": {
    "id": "YxfXouGUn2_j"
   },
   "source": [
    "## 9. Riesgos y Mitigaciones\n",
    "- **Leakage**: variables pos-evento o derivadas del outcome → revisión clínica + auditoría de features.\n",
    "- **Desbalance de clases**: métrica enfocada en utilidad (PR-AUC, PPV por umbral), ponderación/muestreo.\n",
    "- **Shift temporal**: validación temporal + monitoreo continuo.\n",
    "- **Calidad de captura**: reglas de plausibilidad y *data contracts*.\n",
    "- **Equidad**: métricas por subgrupo y ajuste de umbrales si procede."
   ]
  },
  {
   "cell_type": "markdown",
   "id": "bqnVRbrdn2_k",
   "metadata": {
    "id": "bqnVRbrdn2_k"
   },
   "source": [
    "## 10. Conclusiones y Próximos Pasos"
   ]
  },
  {
   "cell_type": "code",
   "execution_count": 30,
   "id": "pfvbfKYXn2_k",
   "metadata": {
    "id": "pfvbfKYXn2_k"
   },
   "outputs": [
    {
     "name": "stdout",
     "output_type": "stream",
     "text": [
      "CONCLUSIONES DEL ANÁLISIS DE NEGOCIO\n",
      "----------------------------------------------------------------------------------------------------\n",
      "\n",
      "• Se dispone de datos clínicos y conductuales con potencial para predicción/estratificación.\n",
      "\n",
      "• Los casos de uso (clasificación de alto riesgo, regresión de score/marcador) son viables condicionados a la definición clínica del label.\n",
      "\n",
      "• El valor de negocio reside en priorizar intervención y optimizar recursos.\n",
      "\n",
      "• Se identificaron variables candidatas y se estableció un plan de implementación de alto nivel.\n",
      "\n",
      "----------------------------------------------------------------------------------------------------\n",
      "\n",
      "PRÓXIMOS PASOS INMEDIATOS:\n",
      "----------------------------------------------------------------------------------------------------\n",
      "\n",
      "1) Validar con stakeholders la definición del label (o reglas de derivación).\n",
      "\n",
      "2) Elaborar diccionario de datos y plan de limpieza/imputación.\n",
      "\n",
      "3) Construir baselines y comparar desempeño por subgrupos.\n",
      "\n",
      "4) Diseñar umbrales operativos y curvas de decisión.\n",
      "\n",
      "5) Documentar supuestos y riesgos en una model card.\n"
     ]
    }
   ],
   "source": [
    "print(\"CONCLUSIONES DEL ANÁLISIS DE NEGOCIO\")\n",
    "print(\"-\"*100)\n",
    "conclusions = [\n",
    "    \"Se dispone de datos clínicos y conductuales con potencial para predicción/estratificación.\",\n",
    "    \"Los casos de uso (clasificación de alto riesgo, regresión de score/marcador) son viables condicionados a la definición clínica del label.\",\n",
    "    \"El valor de negocio reside en priorizar intervención y optimizar recursos.\",\n",
    "    \"Se identificaron variables candidatas y se estableció un plan de implementación de alto nivel.\"\n",
    "]\n",
    "for c in conclusions:\n",
    "    print(\"\\n• \" + c)\n",
    "\n",
    "print(\"\\n\" + \"-\"*100)\n",
    "print(\"\\nPRÓXIMOS PASOS INMEDIATOS:\")\n",
    "print(\"-\"*100)\n",
    "next_steps = [\n",
    "    \"1) Validar con stakeholders la definición del label (o reglas de derivación).\",\n",
    "    \"2) Elaborar diccionario de datos y plan de limpieza/imputación.\",\n",
    "    \"3) Construir baselines y comparar desempeño por subgrupos.\",\n",
    "    \"4) Diseñar umbrales operativos y curvas de decisión.\",\n",
    "    \"5) Documentar supuestos y riesgos en una model card.\"\n",
    "]\n",
    "for s in next_steps:\n",
    "    print(\"\\n\" + s)"
   ]
  }
 ],
 "metadata": {
  "colab": {
   "provenance": []
  },
  "kernelspec": {
   "display_name": "ml-ev1",
   "language": "python",
   "name": "python3"
  },
  "language_info": {
   "codemirror_mode": {
    "name": "ipython",
    "version": 3
   },
   "file_extension": ".py",
   "mimetype": "text/x-python",
   "name": "python",
   "nbconvert_exporter": "python",
   "pygments_lexer": "ipython3",
   "version": "3.12.10"
  }
 },
 "nbformat": 4,
 "nbformat_minor": 5
}
